{
 "cells": [
  {
   "cell_type": "code",
   "execution_count": 1,
   "metadata": {},
   "outputs": [],
   "source": [
    "import tensorflow as tf"
   ]
  },
  {
   "cell_type": "code",
   "execution_count": 2,
   "metadata": {},
   "outputs": [
    {
     "name": "stdout",
     "output_type": "stream",
     "text": [
      "INFO:tensorflow:Restoring parameters from ../model/my_test_model-1000\n"
     ]
    }
   ],
   "source": [
    "sess=tf.Session()    \n",
    "\n",
    "#First let's load meta graph and restore weights\n",
    "saver = tf.train.import_meta_graph('../model/my_test_model-1000.meta')\n",
    "saver.restore(sess,tf.train.latest_checkpoint('../model'))#Weights restored!"
   ]
  },
  {
   "cell_type": "code",
   "execution_count": 4,
   "metadata": {},
   "outputs": [],
   "source": [
    "# Now, let's access and create placeholders variables\n",
    "graph = tf.get_default_graph()\n",
    "w1 = graph.get_tensor_by_name(\"w1:0\")\n",
    "w2 = graph.get_tensor_by_name(\"w2:0\")\n"
   ]
  },
  {
   "cell_type": "code",
   "execution_count": 5,
   "metadata": {},
   "outputs": [
    {
     "name": "stdout",
     "output_type": "stream",
     "text": [
      "60.0\n"
     ]
    }
   ],
   "source": [
    "# create feed-dict to feed new data\n",
    "feed_dict ={w1:13.0,w2:17.0}\n",
    " \n",
    "#Now, access the op that you want to run. \n",
    "op_to_restore = graph.get_tensor_by_name(\"op_to_restore:0\")\n",
    " \n",
    "print sess.run(op_to_restore,feed_dict)"
   ]
  },
  {
   "cell_type": "code",
   "execution_count": 6,
   "metadata": {},
   "outputs": [
    {
     "name": "stdout",
     "output_type": "stream",
     "text": [
      "120.0\n"
     ]
    }
   ],
   "source": [
    "#Add more to the current graph\n",
    "add_on_op = tf.multiply(op_to_restore,2)\n",
    " \n",
    "print sess.run(add_on_op,feed_dict)"
   ]
  },
  {
   "cell_type": "code",
   "execution_count": null,
   "metadata": {},
   "outputs": [],
   "source": [
    "# #VGG Example\n",
    "# saver = tf.train.import_meta_graph('vgg.meta')\n",
    "# # Access the graph\n",
    "# graph = tf.get_default_graph()\n",
    "# ## Prepare the feed_dict for feeding data for fine-tuning \n",
    " \n",
    "# #Access the appropriate output for fine-tuning\n",
    "# fc7= graph.get_tensor_by_name('fc7:0')\n",
    " \n",
    "# #use this if you only want to change gradients of the last layer\n",
    "# fc7 = tf.stop_gradient(fc7) # It's an identity function\n",
    "# fc7_shape= fc7.get_shape().as_list()\n",
    " \n",
    "# new_outputs=2\n",
    "# weights = tf.Variable(tf.truncated_normal([fc7_shape[3], num_outputs], stddev=0.05))\n",
    "# biases = tf.Variable(tf.constant(0.05, shape=[num_outputs]))\n",
    "# output = tf.matmul(fc7, weights) + biases\n",
    "# pred = tf.nn.softmax(output)\n",
    " "
   ]
  }
 ],
 "metadata": {
  "kernelspec": {
   "display_name": "Python 2",
   "language": "python",
   "name": "python2"
  },
  "language_info": {
   "codemirror_mode": {
    "name": "ipython",
    "version": 2
   },
   "file_extension": ".py",
   "mimetype": "text/x-python",
   "name": "python",
   "nbconvert_exporter": "python",
   "pygments_lexer": "ipython2",
   "version": "2.7.12"
  }
 },
 "nbformat": 4,
 "nbformat_minor": 2
}
